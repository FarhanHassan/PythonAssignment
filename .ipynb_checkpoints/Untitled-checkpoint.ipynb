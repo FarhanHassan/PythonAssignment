{
 "cells": [
  {
   "cell_type": "code",
   "execution_count": 21,
   "id": "57856914-3d63-4c13-8731-cc51adc393b5",
   "metadata": {},
   "outputs": [
    {
     "name": "stdout",
     "output_type": "stream",
     "text": [
      "Twinkle, twinkle, little star,\n",
      "         How I wonder what you are!\n",
      "              Up above the world so high,\n",
      "              Like a diamond in the sky.\n",
      "Twinkle, twinkle, little star,\n",
      "         How I wonder what you are!\n"
     ]
    }
   ],
   "source": [
    "print(\"\"\"Twinkle, twinkle, little star,\n",
    "         How I wonder what you are!\n",
    "              Up above the world so high,\n",
    "              Like a diamond in the sky.\n",
    "Twinkle, twinkle, little star,\n",
    "         How I wonder what you are!\"\"\")"
   ]
  },
  {
   "cell_type": "code",
   "execution_count": 29,
   "id": "aab2b743-e6d2-4278-b51f-570a63601bd5",
   "metadata": {},
   "outputs": [
    {
     "name": "stdout",
     "output_type": "stream",
     "text": [
      "3.12.4 | packaged by Anaconda, Inc. | (main, Jun 18 2024, 15:03:56) [MSC v.1929 64 bit (AMD64)]\n"
     ]
    }
   ],
   "source": [
    "import sys\n",
    "print(sys.version)"
   ]
  },
  {
   "cell_type": "code",
   "execution_count": 35,
   "id": "38c3ff59-bb57-43f7-ba52-d4daca872d8e",
   "metadata": {},
   "outputs": [
    {
     "name": "stdout",
     "output_type": "stream",
     "text": [
      "Current date and time: 2024-08-02 14:49:27.565192\n"
     ]
    }
   ],
   "source": [
    "from datetime import datetime\n",
    "date = datetime.now()\n",
    "print(date)"
   ]
  },
  {
   "cell_type": "code",
   "execution_count": 65,
   "id": "cb2c4c88-ec8c-4a2a-aa58-8013311bdfa1",
   "metadata": {},
   "outputs": [
    {
     "name": "stdout",
     "output_type": "stream",
     "text": [
      "Enter the radius of circle\n"
     ]
    },
    {
     "name": "stdin",
     "output_type": "stream",
     "text": [
      " 3\n"
     ]
    },
    {
     "name": "stdout",
     "output_type": "stream",
     "text": [
      "The area of the circle is: 28.274309999999996\n"
     ]
    }
   ],
   "source": [
    "print(\"Enter the radius of circle\")\n",
    "radius = float(input())\n",
    "area = 3.14159 * radius * radius\n",
    "print(area)"
   ]
  },
  {
   "cell_type": "code",
   "execution_count": 73,
   "id": "39e5d6bc-f910-496a-a20e-54535c871434",
   "metadata": {},
   "outputs": [
    {
     "name": "stdin",
     "output_type": "stream",
     "text": [
      "Enter user's first name:  Farhan\n",
      "Enter user's last name:  Hassan\n"
     ]
    },
    {
     "name": "stdout",
     "output_type": "stream",
     "text": [
      "Hassan Farhan\n"
     ]
    }
   ],
   "source": [
    "first_name = input(\"Enter user's first name: \")\n",
    "last_name = input(\"Enter user's last name: \")\n",
    "print(last_name+\" \"+first_name)"
   ]
  },
  {
   "cell_type": "code",
   "execution_count": 77,
   "id": "d3597bf5-83d7-4a5a-801b-3f6b0b3851f6",
   "metadata": {},
   "outputs": [
    {
     "name": "stdout",
     "output_type": "stream",
     "text": [
      "Enter First Number\n"
     ]
    },
    {
     "name": "stdin",
     "output_type": "stream",
     "text": [
      " 4\n"
     ]
    },
    {
     "name": "stdout",
     "output_type": "stream",
     "text": [
      "Enter Second Number\n"
     ]
    },
    {
     "name": "stdin",
     "output_type": "stream",
     "text": [
      " 4\n"
     ]
    },
    {
     "name": "stdout",
     "output_type": "stream",
     "text": [
      "8.0\n"
     ]
    }
   ],
   "source": [
    "print(\"Enter First Number\")\n",
    "first_no = float(input())\n",
    "print(\"Enter Second Number\")\n",
    "second_no = float(input())\n",
    "total=first_no+second_no\n",
    "print(total)"
   ]
  },
  {
   "cell_type": "code",
   "execution_count": 91,
   "id": "4380bf3f-dfae-4647-a1c5-7cf6eb5453f1",
   "metadata": {},
   "outputs": [
    {
     "name": "stdout",
     "output_type": "stream",
     "text": [
      "Enter marks for subject 1:\n"
     ]
    },
    {
     "name": "stdin",
     "output_type": "stream",
     "text": [
      " 88\n"
     ]
    },
    {
     "name": "stdout",
     "output_type": "stream",
     "text": [
      "Enter marks for subject 2:\n"
     ]
    },
    {
     "name": "stdin",
     "output_type": "stream",
     "text": [
      " 66\n"
     ]
    },
    {
     "name": "stdout",
     "output_type": "stream",
     "text": [
      "Enter marks for subject 3:\n"
     ]
    },
    {
     "name": "stdin",
     "output_type": "stream",
     "text": [
      " 77\n"
     ]
    },
    {
     "name": "stdout",
     "output_type": "stream",
     "text": [
      "Enter marks for subject 4:\n"
     ]
    },
    {
     "name": "stdin",
     "output_type": "stream",
     "text": [
      " 70\n"
     ]
    },
    {
     "name": "stdout",
     "output_type": "stream",
     "text": [
      "Enter marks for subject 5:\n"
     ]
    },
    {
     "name": "stdin",
     "output_type": "stream",
     "text": [
      " 81\n"
     ]
    },
    {
     "name": "stdout",
     "output_type": "stream",
     "text": [
      "Mark Sheet\n",
      "Total Marks: 468.0\n",
      "Grade: A\n"
     ]
    }
   ],
   "source": [
    "print(\"Enter marks for subject 1:\")\n",
    "mark1 = float(input())\n",
    "print(\"Enter marks for subject 2:\")\n",
    "mark1 = float(input())\n",
    "print(\"Enter marks for subject 3:\")\n",
    "mark1 = float(input())\n",
    "print(\"Enter marks for subject 4:\")\n",
    "mark1 = float(input())\n",
    "print(\"Enter marks for subject 5:\")\n",
    "mark1 = float(input())\n",
    "total = mark1 + mark2 + mark3 + mark4 + mark5\n",
    "average = total / 5\n",
    "if average >= 90:\n",
    "    grade = 'A'\n",
    "elif average >= 80:\n",
    "    grade = 'B'\n",
    "elif average >= 70:\n",
    "    grade = 'C'\n",
    "elif average >= 60:\n",
    "    grade = 'D'\n",
    "else:\n",
    "    grade = 'F'\n",
    "print(\"Mark Sheet\")\n",
    "print(\"Total Marks:\", total)\n",
    "print(\"Grade:\", grade)"
   ]
  },
  {
   "cell_type": "code",
   "execution_count": 97,
   "id": "6b6459a6-baa2-4981-8259-6f56b09119b9",
   "metadata": {},
   "outputs": [
    {
     "name": "stdout",
     "output_type": "stream",
     "text": [
      "Enter a number: \n"
     ]
    },
    {
     "name": "stdin",
     "output_type": "stream",
     "text": [
      " 4\n"
     ]
    },
    {
     "name": "stdout",
     "output_type": "stream",
     "text": [
      "4 is even\n"
     ]
    }
   ],
   "source": [
    "print(\"Enter a number: \")\n",
    "number = int(input())\n",
    "\n",
    "if number % 2 == 0:\n",
    "     print(f\"{number} is even\")\n",
    "else:\n",
    "     print(f\"{number} is odd\")"
   ]
  },
  {
   "cell_type": "code",
   "execution_count": 99,
   "id": "15d99398-890a-4488-a1a8-7d47646b4b16",
   "metadata": {},
   "outputs": [
    {
     "name": "stdout",
     "output_type": "stream",
     "text": [
      "Length of the list is 5\n"
     ]
    }
   ],
   "source": [
    "fruit = [\"orange\", \"apple\", \"banana\" , \"mango\", \"grapes\"]\n",
    "\n",
    "print(\"Length of the list is \", len(fruit))"
   ]
  },
  {
   "cell_type": "code",
   "execution_count": 101,
   "id": "bf785c9b-665b-476f-8f40-abb8634d829a",
   "metadata": {},
   "outputs": [
    {
     "name": "stdout",
     "output_type": "stream",
     "text": [
      "The largest number in the list is  20\n"
     ]
    }
   ],
   "source": [
    "\n",
    "number = [4, 5, 12, 7, 20,1]\n",
    "maxnumber = max(number)\n",
    "print(\"The largest number in the list is \", maxnumber)"
   ]
  },
  {
   "cell_type": "code",
   "execution_count": 107,
   "id": "3c34927e-ce87-4ab3-83a1-e2f3f550751f",
   "metadata": {},
   "outputs": [
    {
     "name": "stdout",
     "output_type": "stream",
     "text": [
      "All the elements of the list that are less than 5.\n",
      "1\n",
      "1\n",
      "2\n",
      "3\n"
     ]
    }
   ],
   "source": [
    "number = [1, 1, 2, 3, 5, 8, 13, 21, 34, 55, 89]\n",
    "print(\"All the elements of the list that are less than 5.\")\n",
    "for value in number:\n",
    "    if value < 5:\n",
    "        print(value)"
   ]
  }
 ],
 "metadata": {
  "kernelspec": {
   "display_name": "Python 3 (ipykernel)",
   "language": "python",
   "name": "python3"
  },
  "language_info": {
   "codemirror_mode": {
    "name": "ipython",
    "version": 3
   },
   "file_extension": ".py",
   "mimetype": "text/x-python",
   "name": "python",
   "nbconvert_exporter": "python",
   "pygments_lexer": "ipython3",
   "version": "3.12.4"
  }
 },
 "nbformat": 4,
 "nbformat_minor": 5
}
